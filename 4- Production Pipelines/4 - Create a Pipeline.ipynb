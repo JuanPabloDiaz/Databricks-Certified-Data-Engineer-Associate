{
 "cells": [
  {
   "cell_type": "markdown",
   "metadata": {
    "application/vnd.databricks.v1+cell": {
     "cellMetadata": {},
     "inputWidgets": {},
     "nuid": "ca869da3-d072-4f71-9fb3-777f7bb9157a",
     "showTitle": false,
     "tableResultSettingsMap": {},
     "title": ""
    }
   },
   "source": [
    "# Create a Pipeline\n",
    "\n",
    "1. Go to Databricks -> Delta Live Tables -> `Create Pipeline` -> `json` option\n",
    "2. Copy & Paste template below:\n",
    "  - add a pipeline name __ `<pipelineName>` __"
   ]
  },
  {
   "cell_type": "markdown",
   "metadata": {
    "application/vnd.databricks.v1+cell": {
     "cellMetadata": {
      "byteLimit": 2048000,
      "rowLimit": 10000
     },
     "inputWidgets": {},
     "nuid": "dc3d842d-9f04-4e0d-9ea6-e972ead78cb1",
     "showTitle": false,
     "tableResultSettingsMap": {},
     "title": ""
    }
   },
   "source": [
    "```json\n",
    "{\n",
    "    \"pipeline_type\": \"WORKSPACE\",\n",
    "    \"clusters\": [\n",
    "        {\n",
    "            \"label\": \"default\",\n",
    "            \"num_workers\": 0\n",
    "        },\n",
    "        {\n",
    "            \"label\": \"maintenance\"\n",
    "        }\n",
    "    ],\n",
    "    \"development\": true,\n",
    "    \"continuous\": false,\n",
    "    \"channel\": \"CURRENT\",\n",
    "    \"photon\": false,\n",
    "    \"libraries\": [\n",
    "        {\n",
    "            \"notebook\": {\n",
    "                \"path\": \"/Repos/juan.diaz93@hotmail.com/Databricks-Certified-Data-Engineer-Associate/4- Production Pipelines/4.1 - Delta Live Tables\"\n",
    "            }\n",
    "        }\n",
    "    ],\n",
    "    \"name\": \"<pipelineName>\",\n",
    "    \"edition\": \"ADVANCED\",\n",
    "    \"storage\": \"dbfs:/mnt/demo/dbt/demo_bookstore\",\n",
    "    \"configuration\": {\n",
    "        \"datasets.path\": \"dbfs:/mnt/demo-datasets/bookstore\"\n",
    "    },\n",
    "    \"schema\": \"demo_bookstore\",\n",
    "    \"data_sampling\": false\n",
    "}\n",
    "```"
   ]
  },
  {
   "cell_type": "markdown",
   "metadata": {
    "application/vnd.databricks.v1+cell": {
     "cellMetadata": {},
     "inputWidgets": {},
     "nuid": "515218c2-b69d-4fd4-9e3e-01d2ed796c84",
     "showTitle": false,
     "tableResultSettingsMap": {},
     "title": ""
    }
   },
   "source": [
    "run the DLT"
   ]
  },
  {
   "cell_type": "markdown",
   "metadata": {
    "application/vnd.databricks.v1+cell": {
     "cellMetadata": {},
     "inputWidgets": {},
     "nuid": "be4b39ea-0988-4c26-89f2-5b7613ae9889",
     "showTitle": false,
     "tableResultSettingsMap": {},
     "title": ""
    }
   },
   "source": [
    "error:\n",
    "> com.databricks.pipelines.common.errors.deployment.DeploymentException: Failed to launch pipeline cluster 0214-204857-ub6mizd8: Encountered Quota Exhaustion issue in your account:  azure_error_code: QuotaExceeded, azure_error_message: Operation could not be completed as it results in exceeding approved Total Regional Cores ...\n",
    "> This error is likely due to a misconfiguration in the pipeline.\n",
    "> Check the pipeline cluster configuration and associated cluster policy."
   ]
  },
  {
   "cell_type": "markdown",
   "metadata": {
    "application/vnd.databricks.v1+cell": {
     "cellMetadata": {},
     "inputWidgets": {},
     "nuid": "23cac9cf-08a7-44f8-b9a4-6e1062b2f27d",
     "showTitle": false,
     "tableResultSettingsMap": {},
     "title": ""
    }
   },
   "source": [
    "> Delta Live Tables requires the Premium plan. Contact your Databricks account team for more information.\n",
    "\n",
    "[leer DLT docs](https://learn.microsoft.com/en-us/azure/databricks/delta-live-tables/)"
   ]
  }
 ],
 "metadata": {
  "application/vnd.databricks.v1+notebook": {
   "computePreferences": null,
   "dashboards": [],
   "environmentMetadata": {
    "base_environment": "",
    "environment_version": "2"
   },
   "language": "python",
   "notebookMetadata": {
    "pythonIndentUnit": 4
   },
   "notebookName": "4 - Create a Pipeline",
   "widgets": {}
  },
  "language_info": {
   "name": "python"
  }
 },
 "nbformat": 4,
 "nbformat_minor": 0
}
